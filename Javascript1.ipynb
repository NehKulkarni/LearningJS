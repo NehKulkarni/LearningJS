{
 "cells": [
  {
   "cell_type": "markdown",
   "metadata": {},
   "source": [
    "# Objects: Creation and Reusability"
   ]
  },
  {
   "cell_type": "markdown",
   "metadata": {},
   "source": [
    "# What is an Object in JS?"
   ]
  },
  {
   "cell_type": "markdown",
   "metadata": {},
   "source": [
    "Object is a standalone entity, that has properties and type.\n",
    "\n",
    "It is analogous to the real world object such as a Book, which has properties such as \"Weight\" and \"Cost\"."
   ]
  },
  {
   "cell_type": "markdown",
   "metadata": {},
   "source": [
    "# What is Object Property?"
   ]
  },
  {
   "cell_type": "markdown",
   "metadata": {},
   "source": [
    "Properties are just like normal variables, but they are attached to the Object.\n",
    "\n",
    "Object properties can be accessed as: objectName.propertyName using the 'dot' notation.\n",
    "\n",
    "If an Object property has been declared, but uninitialized, then it is \"Undefined\"."
   ]
  },
  {
   "cell_type": "markdown",
   "metadata": {},
   "source": [
    "# Accessing Object Properties"
   ]
  },
  {
   "cell_type": "code",
   "execution_count": 4,
   "metadata": {},
   "outputs": [
    {
     "name": "stdout",
     "output_type": "stream",
     "text": [
      "undefined\n"
     ]
    }
   ],
   "source": [
    "var myCar = new Object();\n",
    "myCar.make = 'Ford';\n",
    "myCar.model = 'Mustang';\n",
    "myCar.year = 1969;\n",
    "console.log(myCar.color); // undefined"
   ]
  },
  {
   "cell_type": "code",
   "execution_count": 12,
   "metadata": {},
   "outputs": [
    {
     "name": "stdout",
     "output_type": "stream",
     "text": [
      "Ford\n",
      "Mustang\n",
      "1969\n"
     ]
    }
   ],
   "source": [
    "console.log(myCar['make']);    /*bracket notation*/\n",
    "console.log(myCar['model']);   /*bracket notation*/\n",
    "console.log(myCar.year);;      /*dot notation*/"
   ]
  },
  {
   "cell_type": "markdown",
   "metadata": {},
   "source": [
    "# Enumerating through object properties"
   ]
  },
  {
   "cell_type": "markdown",
   "metadata": {},
   "source": [
    "#### for..in loop: \n",
    "\n",
    "Traverses all enumerable properties of the object and its prototype chain."
   ]
  },
  {
   "cell_type": "code",
   "execution_count": 10,
   "metadata": {},
   "outputs": [
    {
     "name": "stdout",
     "output_type": "stream",
     "text": [
      "FordMustang1969\n"
     ]
    }
   ],
   "source": [
    "var string1 = '';\n",
    "for (var property1 in myCar) {\n",
    "  string1 = string1 + myCar[property1];\n",
    "}\n",
    "\n",
    "console.log(string1);"
   ]
  },
  {
   "cell_type": "markdown",
   "metadata": {},
   "source": [
    "#### Object.keys(o: \n",
    "\n",
    "Returns an array with all the own enumerable properties' names (\"keys\") of an object o. Does not return the prototype chain properties."
   ]
  },
  {
   "cell_type": "code",
   "execution_count": 11,
   "metadata": {},
   "outputs": [
    {
     "name": "stdout",
     "output_type": "stream",
     "text": [
      "[ 'make', 'model', 'year' ]\n"
     ]
    }
   ],
   "source": [
    "console.log(Object.keys(myCar));"
   ]
  },
  {
   "cell_type": "markdown",
   "metadata": {},
   "source": [
    "#### Object.getOwnPropertyNames():\n",
    "\n",
    "Returns an array containing all own properties' (whether enumerable or not) of an object 'o'."
   ]
  },
  {
   "cell_type": "code",
   "execution_count": 13,
   "metadata": {},
   "outputs": [
    {
     "name": "stdout",
     "output_type": "stream",
     "text": [
      "[ 'make', 'model', 'year' ]\n"
     ]
    }
   ],
   "source": [
    "console.log(Object.getOwnPropertyNames(myCar));"
   ]
  },
  {
   "cell_type": "markdown",
   "metadata": {},
   "source": [
    "# Creating new objects"
   ]
  },
  {
   "cell_type": "markdown",
   "metadata": {},
   "source": [
    "#### Using Object initializers\n",
    "\n",
    "Using object initializers is sometimes referred to as creating objects with literal notation.\n",
    "\n",
    "An object initializer is a comma-delimited list of zero or more pairs of property names and associated values of an object, enclosed in curly braces ({})."
   ]
  },
  {
   "cell_type": "code",
   "execution_count": 17,
   "metadata": {},
   "outputs": [
    {
     "name": "stdout",
     "output_type": "stream",
     "text": [
      "foo\n"
     ]
    }
   ],
   "source": [
    "var object1 = {a: 'foo', b: 42, c: {}};\n",
    "console.log(object1.a);"
   ]
  },
  {
   "cell_type": "markdown",
   "metadata": {},
   "source": [
    "#### Using a constructor function\n",
    "\n",
    "Object can be created with with these two steps:\n",
    " 1. Define the object type by writing a constructor function. Preferably use a capital initial letter.\n",
    " 2. Create an instance of an object with \"new\" keyword."
   ]
  },
  {
   "cell_type": "code",
   "execution_count": 19,
   "metadata": {},
   "outputs": [
    {
     "name": "stdout",
     "output_type": "stream",
     "text": [
      "Car { make: 'Eagle', model: 'Talon TSi', year: 1993 }\n",
      "Car { make: 'Nissan', model: '300ZX', year: 1992 }\n",
      "Car { make: 'Mazda', model: 'Miata', year: 1990 }\n"
     ]
    }
   ],
   "source": [
    "function Car(make, model, year) {\n",
    "  this.make = make;\n",
    "  this.model = model;\n",
    "  this.year = year;\n",
    "}\n",
    "var mycar = new Car('Eagle', 'Talon TSi', 1993);\n",
    "var kenscar = new Car('Nissan', '300ZX', 1992);\n",
    "var vpgscar = new Car('Mazda', 'Miata', 1990);\n",
    "console.log(mycar);\n",
    "console.log(kenscar);\n",
    "console.log(vpgscar);"
   ]
  },
  {
   "cell_type": "markdown",
   "metadata": {},
   "source": [
    "In the code snippet above, \"this\" keyword is used to assign values to the object properties based on the values passed to the function.\n",
    "\n",
    "The \"new\" keyword creates a new instance of the object \"Car\" which inherits all the properties of \"Car\". "
   ]
  },
  {
   "cell_type": "markdown",
   "metadata": {},
   "source": [
    "#### Using the Object.create method"
   ]
  },
  {
   "cell_type": "markdown",
   "metadata": {},
   "source": [
    "This method can be very useful, because it allows you to choose the prototype object for the object you want to create, without having to define a constructor function."
   ]
  },
  {
   "cell_type": "code",
   "execution_count": 21,
   "metadata": {},
   "outputs": [
    {
     "name": "stdout",
     "output_type": "stream",
     "text": [
      "Invertebrates\n",
      "Fishes\n"
     ]
    }
   ],
   "source": [
    "// Animal properties and method encapsulation\n",
    "var Animal = {\n",
    "  type: 'Invertebrates', // Default value of properties\n",
    "  displayType: function() {  // Method which will display type of Animal\n",
    "    console.log(this.type);\n",
    "  }\n",
    "};\n",
    "\n",
    "// Create new animal type called animal1 \n",
    "var animal1 = Object.create(Animal);\n",
    "animal1.displayType(); // Output:Invertebrates\n",
    "\n",
    "// Create new animal type called Fishes\n",
    "var fish = Object.create(Animal);\n",
    "fish.type = 'Fishes';\n",
    "fish.displayType(); // Output:Fishes"
   ]
  },
  {
   "cell_type": "markdown",
   "metadata": {},
   "source": [
    "# Building Reusable Objects"
   ]
  },
  {
   "cell_type": "markdown",
   "metadata": {
    "collapsed": true
   },
   "source": [
    "#### Using the \"new\" keyword"
   ]
  },
  {
   "cell_type": "code",
   "execution_count": 4,
   "metadata": {},
   "outputs": [
    {
     "name": "stdout",
     "output_type": "stream",
     "text": [
      "myCar { publ: 'but I rent it sometimes', action: [Function] }\n",
      "I privately own it but I rent it sometimes\n"
     ]
    }
   ],
   "source": [
    "function myCar() {\n",
    "    var priv = \"I privately own it \";\n",
    "    this.publ = \"but I rent it sometimes\";\n",
    "    this.action = function() {\n",
    "        return priv + this.publ;\n",
    "    };\n",
    "}\n",
    "\n",
    "var newCar = new myCar();\n",
    "console.log(newCar);\n",
    "console.log(newCar.action());"
   ]
  },
  {
   "cell_type": "markdown",
   "metadata": {},
   "source": [
    "With this method you are creating a new object every time you call new myCar(), creating all it's methods and adding all it's methods to the new object. \n",
    "\n",
    "##### Pros\n",
    " - It looks like classical inheritance so it's easy to understand to Java-C#-C++-etc people.\n",
    " - It can have private variables per instance since you have one function closure per each object you create\n",
    " \n",
    "##### Cons\n",
    " - It consumes more memory as more objects you create because with each object you are creating a new closure and creating each of it's methods again.\n",
    " - Private properties are private, not protected, subtypes can't access them.\n",
    " - No easy way to know if a object has some Type as superclass."
   ]
  },
  {
   "cell_type": "markdown",
   "metadata": {},
   "source": [
    "#### Using \"Object()\" constructor"
   ]
  },
  {
   "cell_type": "code",
   "execution_count": 6,
   "metadata": {},
   "outputs": [
    {
     "name": "stdout",
     "output_type": "stream",
     "text": [
      "{ type: 'Sedan', color: 'black', EngineHP: 700 }\n",
      "{ type: 'LuxuryCar', color: 'white', EngineHP: 800 }\n"
     ]
    }
   ],
   "source": [
    "var myCar = \n",
    "    {\n",
    "        \"type\":\"Sedan\",\n",
    "        \"color\":\"black\",\n",
    "        \"EngineHP\":700\n",
    "    };\n",
    "\n",
    "console.log(myCar);\n",
    "var nexus = new Object();\n",
    "nexus.type = \"LuxuryCar\";\n",
    "nexus.color = \"white\";\n",
    "nexus.EngineHP = 800;\n",
    "\n",
    "console.log(nexus);"
   ]
  },
  {
   "cell_type": "markdown",
   "metadata": {},
   "source": [
    "Creating objects using new Object() and object literal does the same thing. For simplicity, readability and execution speed, use object literal.\n",
    "\n",
    "We can add new properties and methods to the above objects using the dot and/or brackets notation."
   ]
  },
  {
   "cell_type": "markdown",
   "metadata": {},
   "source": [
    "#### Object \"maker\"/\"creator\" functions\n",
    "\n",
    "Maker functions essentially create object literals that can be referenced using the variable they were set to each time they are called. \n",
    "\n",
    "Makers were popularized by Douglas Crockford who is a proponent of using Prototypal inheritance instead of Classical inheritance in Javascript. \n",
    "\n",
    "An object (referred to as newObjectInstance in the example below) is created at the start of the function, then the function defines functions and vars that will be defined to that object."
   ]
  },
  {
   "cell_type": "code",
   "execution_count": 10,
   "metadata": {},
   "outputs": [
    {
     "name": "stdout",
     "output_type": "stream",
     "text": [
      "{ [Function: newObjectInstance] array: [ 1, 2, 3 ], value: 5 }\n",
      "{ [Function: newObjectInstance] array: [ 3, 2, 1 ], value: 25 }\n"
     ]
    }
   ],
   "source": [
    "var newObjectInstance = function(newArray, value){\n",
    "  var instance = {};\n",
    "  newObjectInstance.array = newArray;\n",
    "  newObjectInstance.value = value;\n",
    "    \n",
    "  return newObjectInstance;\n",
    "}\n",
    "\n",
    "var anotherObjectInstance1 = newObjectInstance([1,2,3], 5);\n",
    "console.log(anotherObjectInstance1);\n",
    "\n",
    "var anotherObjectInstance2 = newObjectInstance([3,2,1], 25);\n",
    "console.log(anotherObjectInstance2);"
   ]
  },
  {
   "cell_type": "markdown",
   "metadata": {},
   "source": [
    "# Summing Up!\n",
    "\n",
    "Different ways of creating objects in JS:\n",
    "    - Using Object() constructor\n",
    "    - Using Object.create() method\n",
    "    - Using {} syntactic sugar\n",
    "    - Using constructor function\n",
    "    - Using function construtor and prototype\n",
    "    - Using ECMA Script 6 class syntax\n",
    "    - Using Singleton pattern"
   ]
  },
  {
   "cell_type": "code",
   "execution_count": null,
   "metadata": {
    "collapsed": true
   },
   "outputs": [],
   "source": []
  }
 ],
 "metadata": {
  "kernelspec": {
   "display_name": "Javascript (Node.js)",
   "language": "javascript",
   "name": "javascript"
  },
  "language_info": {
   "file_extension": ".js",
   "mimetype": "application/javascript",
   "name": "javascript",
   "version": "8.9.4"
  }
 },
 "nbformat": 4,
 "nbformat_minor": 2
}
